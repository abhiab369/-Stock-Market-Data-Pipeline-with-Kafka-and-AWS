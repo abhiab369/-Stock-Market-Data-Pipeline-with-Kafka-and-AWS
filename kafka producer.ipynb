{
 "cells": [
  {
   "cell_type": "code",
   "execution_count": 1,
   "id": "595f8a44",
   "metadata": {},
   "outputs": [
    {
     "name": "stdout",
     "output_type": "stream",
     "text": [
      "Defaulting to user installation because normal site-packages is not writeable\n",
      "Collecting kafka-python\n",
      "  Downloading kafka_python-2.0.2-py2.py3-none-any.whl (246 kB)\n",
      "     ---------------------------------------- 0.0/246.5 kB ? eta -:--:--\n",
      "     - -------------------------------------- 10.2/246.5 kB ? eta -:--:--\n",
      "     -------------- ------------------------ 92.2/246.5 kB 1.1 MB/s eta 0:00:01\n",
      "     -------------------------------------  245.8/246.5 kB 2.2 MB/s eta 0:00:01\n",
      "     -------------------------------------- 246.5/246.5 kB 1.5 MB/s eta 0:00:00\n",
      "Installing collected packages: kafka-python\n",
      "Successfully installed kafka-python-2.0.2\n"
     ]
    }
   ],
   "source": [
    "!pip install kafka-python\n"
   ]
  },
  {
   "cell_type": "code",
   "execution_count": 1,
   "id": "230049b0",
   "metadata": {},
   "outputs": [],
   "source": [
    "import pandas as pd\n",
    "from kafka import KafkaProducer\n",
    "from time import sleep\n",
    "from json import dumps\n",
    "import json"
   ]
  },
  {
   "cell_type": "code",
   "execution_count": 2,
   "id": "ff80bc30",
   "metadata": {},
   "outputs": [],
   "source": [
    "producer = KafkaProducer(bootstrap_servers=[\"3.6.41.228:9092\"],\n",
    "                        value_serializer = lambda x:\n",
    "                        dumps(x).encode('utf-8'))\n"
   ]
  },
  {
   "cell_type": "code",
   "execution_count": 10,
   "id": "6055a9ed",
   "metadata": {},
   "outputs": [
    {
     "data": {
      "text/plain": [
       "<kafka.producer.future.FutureRecordMetadata at 0x1ae2198d0d0>"
      ]
     },
     "execution_count": 10,
     "metadata": {},
     "output_type": "execute_result"
    }
   ],
   "source": [
    "producer.send('demo',value={'name':'abhishek'})"
   ]
  },
  {
   "cell_type": "code",
   "execution_count": 3,
   "id": "fbc2f194",
   "metadata": {},
   "outputs": [
    {
     "data": {
      "text/plain": [
       "(104224, 9)"
      ]
     },
     "execution_count": 3,
     "metadata": {},
     "output_type": "execute_result"
    }
   ],
   "source": [
    "df = pd.read_csv('indexProcessed.csv')\n",
    "df.shape"
   ]
  },
  {
   "cell_type": "code",
   "execution_count": 4,
   "id": "ced6b6d0",
   "metadata": {},
   "outputs": [
    {
     "data": {
      "text/plain": [
       "{'Index': {12705: 'NYA'},\n",
       " 'Date': {12705: '1982-10-20'},\n",
       " 'Open': {12705: 843.780029},\n",
       " 'High': {12705: 843.780029},\n",
       " 'Low': {12705: 843.780029},\n",
       " 'Close': {12705: 843.780029},\n",
       " 'Adj Close': {12705: 843.780029},\n",
       " 'Volume': {12705: 0.0},\n",
       " 'CloseUSD': {12705: 843.780029}}"
      ]
     },
     "execution_count": 4,
     "metadata": {},
     "output_type": "execute_result"
    }
   ],
   "source": [
    "df.sample(1).to_dict()"
   ]
  },
  {
   "cell_type": "code",
   "execution_count": 5,
   "id": "b3ab8ea0",
   "metadata": {},
   "outputs": [
    {
     "data": {
      "text/plain": [
       "{'Index': 'GDAXI',\n",
       " 'Date': '1995-05-15',\n",
       " 'Open': 2097.199951,\n",
       " 'High': 2100.25,\n",
       " 'Low': 2086.52002,\n",
       " 'Close': 2092.0,\n",
       " 'Adj Close': 2092.0,\n",
       " 'Volume': 0.0,\n",
       " 'CloseUSD': 2552.24}"
      ]
     },
     "execution_count": 5,
     "metadata": {},
     "output_type": "execute_result"
    }
   ],
   "source": [
    "df.sample(1).to_dict(orient = 'records')[0]"
   ]
  },
  {
   "cell_type": "code",
   "execution_count": null,
   "id": "26ce398b",
   "metadata": {},
   "outputs": [],
   "source": [
    "for i in range(len(df)):\n",
    "    stock_data=df.sample(1).to_dict(orient = 'records')[0]\n",
    "    producer.send('demo',value = stock_data)\n",
    "    sleep(1)"
   ]
  },
  {
   "cell_type": "code",
   "execution_count": null,
   "id": "f6e1acb9",
   "metadata": {},
   "outputs": [],
   "source": [
    "pip install confluent-kafka requests\n"
   ]
  },
  {
   "cell_type": "code",
   "execution_count": null,
   "id": "8568f4d1",
   "metadata": {},
   "outputs": [],
   "source": []
  },
  {
   "cell_type": "code",
   "execution_count": null,
   "id": "14587ac9",
   "metadata": {},
   "outputs": [],
   "source": []
  }
 ],
 "metadata": {
  "kernelspec": {
   "display_name": "Python 3 (ipykernel)",
   "language": "python",
   "name": "python3"
  },
  "language_info": {
   "codemirror_mode": {
    "name": "ipython",
    "version": 3
   },
   "file_extension": ".py",
   "mimetype": "text/x-python",
   "name": "python",
   "nbconvert_exporter": "python",
   "pygments_lexer": "ipython3",
   "version": "3.11.5"
  }
 },
 "nbformat": 4,
 "nbformat_minor": 5
}
